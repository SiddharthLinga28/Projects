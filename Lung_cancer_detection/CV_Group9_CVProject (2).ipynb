{
  "nbformat": 4,
  "nbformat_minor": 0,
  "metadata": {
    "colab": {
      "provenance": []
    },
    "kernelspec": {
      "name": "python3",
      "display_name": "Python 3"
    },
    "language_info": {
      "name": "python"
    }
  },
  "cells": [
    {
      "cell_type": "code",
      "source": [
        "!unzip lung_data.zip"
      ],
      "metadata": {
        "colab": {
          "base_uri": "https://localhost:8080/"
        },
        "id": "oIJdhTBInuKd",
        "outputId": "90819d68-f328-4ff6-ff06-ecb9b201d333"
      },
      "execution_count": null,
      "outputs": [
        {
          "output_type": "stream",
          "name": "stdout",
          "text": [
            "Archive:  lung_data.zip\n",
            "   creating: lung_data/\n",
            "   creating: lung_data/lung.scc/\n",
            "  inflating: lung_data/lung.scc/lungscc4001.jpeg  \n",
            "  inflating: lung_data/lung.scc/lungscc4002.jpeg  \n",
            "  inflating: lung_data/lung.scc/lungscc4003.jpeg  \n",
            "  inflating: lung_data/lung.scc/lungscc4004.jpeg  \n",
            "  inflating: lung_data/lung.scc/lungscc4005.jpeg  \n",
            "  inflating: lung_data/lung.scc/lungscc4006.jpeg  \n",
            "  inflating: lung_data/lung.scc/lungscc4007.jpeg  \n",
            "  inflating: lung_data/lung.scc/lungscc4008.jpeg  \n",
            "  inflating: lung_data/lung.scc/lungscc4009.jpeg  \n",
            "  inflating: lung_data/lung.scc/lungscc4010.jpeg  \n",
            "  inflating: lung_data/lung.scc/lungscc4011.jpeg  \n",
            "  inflating: lung_data/lung.scc/lungscc4012.jpeg  \n",
            "  inflating: lung_data/lung.scc/lungscc4013.jpeg  \n",
            "  inflating: lung_data/lung.scc/lungscc4014.jpeg  \n",
            "  inflating: lung_data/lung.scc/lungscc4015.jpeg  \n",
            "  inflating: lung_data/lung.scc/lungscc4016.jpeg  \n",
            "  inflating: lung_data/lung.scc/lungscc4017.jpeg  \n",
            "  inflating: lung_data/lung.scc/lungscc4018.jpeg  \n",
            "  inflating: lung_data/lung.scc/lungscc4019.jpeg  \n",
            "  inflating: lung_data/lung.scc/lungscc4020.jpeg  \n",
            "  inflating: lung_data/lung.scc/lungscc4021.jpeg  \n",
            "  inflating: lung_data/lung.scc/lungscc4022.jpeg  \n",
            "  inflating: lung_data/lung.scc/lungscc4023.jpeg  \n",
            "  inflating: lung_data/lung.scc/lungscc4024.jpeg  \n",
            "  inflating: lung_data/lung.scc/lungscc4025.jpeg  \n",
            "  inflating: lung_data/lung.scc/lungscc4026.jpeg  \n",
            "  inflating: lung_data/lung.scc/lungscc4027.jpeg  \n",
            "  inflating: lung_data/lung.scc/lungscc4028.jpeg  \n",
            "  inflating: lung_data/lung.scc/lungscc4029.jpeg  \n",
            "  inflating: lung_data/lung.scc/lungscc4030.jpeg  \n",
            "  inflating: lung_data/lung.scc/lungscc4031.jpeg  \n",
            "  inflating: lung_data/lung.scc/lungscc4032.jpeg  \n",
            "  inflating: lung_data/lung.scc/lungscc4033.jpeg  \n",
            "  inflating: lung_data/lung.scc/lungscc4034.jpeg  \n",
            "  inflating: lung_data/lung.scc/lungscc4035.jpeg  \n",
            "  inflating: lung_data/lung.scc/lungscc4036.jpeg  \n",
            "  inflating: lung_data/lung.scc/lungscc4037.jpeg  \n",
            "  inflating: lung_data/lung.scc/lungscc4038.jpeg  \n",
            "  inflating: lung_data/lung.scc/lungscc4039.jpeg  \n",
            "  inflating: lung_data/lung.scc/lungscc4040.jpeg  \n",
            "  inflating: lung_data/lung.scc/lungscc4041.jpeg  \n",
            "  inflating: lung_data/lung.scc/lungscc4043.jpeg  \n",
            "  inflating: lung_data/lung.scc/lungscc4044.jpeg  \n",
            "  inflating: lung_data/lung.scc/lungscc4045.jpeg  \n",
            "  inflating: lung_data/lung.scc/lungscc4046.jpeg  \n",
            "  inflating: lung_data/lung.scc/lungscc4047.jpeg  \n",
            "  inflating: lung_data/lung.scc/lungscc4048.jpeg  \n",
            "  inflating: lung_data/lung.scc/lungscc4049.jpeg  \n",
            "  inflating: lung_data/lung.scc/lungscc4050.jpeg  \n",
            "  inflating: lung_data/lung.scc/lungscc4051.jpeg  \n",
            "   creating: lung_data/lung_aca/\n",
            "  inflating: lung_data/lung_aca/lungaca4001.jpeg  \n",
            "  inflating: lung_data/lung_aca/lungaca4002.jpeg  \n",
            "  inflating: lung_data/lung_aca/lungaca4003.jpeg  \n",
            "  inflating: lung_data/lung_aca/lungaca4004.jpeg  \n",
            "  inflating: lung_data/lung_aca/lungaca4005.jpeg  \n",
            "  inflating: lung_data/lung_aca/lungaca4006.jpeg  \n",
            "  inflating: lung_data/lung_aca/lungaca4007.jpeg  \n",
            "  inflating: lung_data/lung_aca/lungaca4008.jpeg  \n",
            "  inflating: lung_data/lung_aca/lungaca4009.jpeg  \n",
            "  inflating: lung_data/lung_aca/lungaca4010.jpeg  \n",
            "  inflating: lung_data/lung_aca/lungaca4011.jpeg  \n",
            "  inflating: lung_data/lung_aca/lungaca4012.jpeg  \n",
            "  inflating: lung_data/lung_aca/lungaca4013.jpeg  \n",
            "  inflating: lung_data/lung_aca/lungaca4014.jpeg  \n",
            "  inflating: lung_data/lung_aca/lungaca4015.jpeg  \n",
            "  inflating: lung_data/lung_aca/lungaca4016.jpeg  \n",
            "  inflating: lung_data/lung_aca/lungaca4017.jpeg  \n",
            "  inflating: lung_data/lung_aca/lungaca4018.jpeg  \n",
            "  inflating: lung_data/lung_aca/lungaca4019.jpeg  \n",
            "  inflating: lung_data/lung_aca/lungaca4020.jpeg  \n",
            "  inflating: lung_data/lung_aca/lungaca4021.jpeg  \n",
            "  inflating: lung_data/lung_aca/lungaca4022.jpeg  \n",
            "  inflating: lung_data/lung_aca/lungaca4023.jpeg  \n",
            "  inflating: lung_data/lung_aca/lungaca4024.jpeg  \n",
            "  inflating: lung_data/lung_aca/lungaca4025.jpeg  \n",
            "  inflating: lung_data/lung_aca/lungaca4026.jpeg  \n",
            "  inflating: lung_data/lung_aca/lungaca4027.jpeg  \n",
            "  inflating: lung_data/lung_aca/lungaca4028.jpeg  \n",
            "  inflating: lung_data/lung_aca/lungaca4029.jpeg  \n",
            "  inflating: lung_data/lung_aca/lungaca4030.jpeg  \n",
            "  inflating: lung_data/lung_aca/lungaca4031.jpeg  \n",
            "  inflating: lung_data/lung_aca/lungaca4032.jpeg  \n",
            "  inflating: lung_data/lung_aca/lungaca4033.jpeg  \n",
            "  inflating: lung_data/lung_aca/lungaca4034.jpeg  \n",
            "  inflating: lung_data/lung_aca/lungaca4035.jpeg  \n",
            "  inflating: lung_data/lung_aca/lungaca4036.jpeg  \n",
            "  inflating: lung_data/lung_aca/lungaca4037.jpeg  \n",
            "  inflating: lung_data/lung_aca/lungaca4038.jpeg  \n",
            "  inflating: lung_data/lung_aca/lungaca4039.jpeg  \n",
            "  inflating: lung_data/lung_aca/lungaca4040.jpeg  \n",
            "  inflating: lung_data/lung_aca/lungaca4041.jpeg  \n",
            "  inflating: lung_data/lung_aca/lungaca4042.jpeg  \n",
            "  inflating: lung_data/lung_aca/lungaca4043.jpeg  \n",
            "  inflating: lung_data/lung_aca/lungaca4044.jpeg  \n",
            "  inflating: lung_data/lung_aca/lungaca4045.jpeg  \n",
            "  inflating: lung_data/lung_aca/lungaca4046.jpeg  \n",
            "  inflating: lung_data/lung_aca/lungaca4047.jpeg  \n",
            "  inflating: lung_data/lung_aca/lungaca4048.jpeg  \n",
            "  inflating: lung_data/lung_aca/lungaca4049.jpeg  \n",
            "  inflating: lung_data/lung_aca/lungaca4050.jpeg  \n",
            "   creating: lung_data/lung_n/\n",
            "  inflating: lung_data/lung_n/lungn4001.jpeg  \n",
            "  inflating: lung_data/lung_n/lungn4002.jpeg  \n",
            "  inflating: lung_data/lung_n/lungn4003.jpeg  \n",
            "  inflating: lung_data/lung_n/lungn4004.jpeg  \n",
            "  inflating: lung_data/lung_n/lungn4005.jpeg  \n",
            "  inflating: lung_data/lung_n/lungn4006.jpeg  \n",
            "  inflating: lung_data/lung_n/lungn4007.jpeg  \n",
            "  inflating: lung_data/lung_n/lungn4008.jpeg  \n",
            "  inflating: lung_data/lung_n/lungn4009.jpeg  \n",
            "  inflating: lung_data/lung_n/lungn4010.jpeg  \n",
            "  inflating: lung_data/lung_n/lungn4011.jpeg  \n",
            "  inflating: lung_data/lung_n/lungn4012.jpeg  \n",
            "  inflating: lung_data/lung_n/lungn4013.jpeg  \n",
            "  inflating: lung_data/lung_n/lungn4014.jpeg  \n",
            "  inflating: lung_data/lung_n/lungn4015.jpeg  \n",
            "  inflating: lung_data/lung_n/lungn4016.jpeg  \n",
            "  inflating: lung_data/lung_n/lungn4017.jpeg  \n",
            "  inflating: lung_data/lung_n/lungn4018.jpeg  \n",
            "  inflating: lung_data/lung_n/lungn4019.jpeg  \n",
            "  inflating: lung_data/lung_n/lungn4020.jpeg  \n",
            "  inflating: lung_data/lung_n/lungn4021.jpeg  \n",
            "  inflating: lung_data/lung_n/lungn4022.jpeg  \n",
            "  inflating: lung_data/lung_n/lungn4023.jpeg  \n",
            "  inflating: lung_data/lung_n/lungn4024.jpeg  \n",
            "  inflating: lung_data/lung_n/lungn4025.jpeg  \n",
            "  inflating: lung_data/lung_n/lungn4026.jpeg  \n",
            "  inflating: lung_data/lung_n/lungn4027.jpeg  \n",
            "  inflating: lung_data/lung_n/lungn4028.jpeg  \n",
            "  inflating: lung_data/lung_n/lungn4029.jpeg  \n",
            "  inflating: lung_data/lung_n/lungn4030.jpeg  \n",
            "  inflating: lung_data/lung_n/lungn4031.jpeg  \n",
            "  inflating: lung_data/lung_n/lungn4032.jpeg  \n",
            "  inflating: lung_data/lung_n/lungn4033.jpeg  \n",
            "  inflating: lung_data/lung_n/lungn4034.jpeg  \n",
            "  inflating: lung_data/lung_n/lungn4035.jpeg  \n",
            "  inflating: lung_data/lung_n/lungn4036.jpeg  \n",
            "  inflating: lung_data/lung_n/lungn4037.jpeg  \n",
            "  inflating: lung_data/lung_n/lungn4038.jpeg  \n",
            "  inflating: lung_data/lung_n/lungn4039.jpeg  \n",
            "  inflating: lung_data/lung_n/lungn4040.jpeg  \n",
            "  inflating: lung_data/lung_n/lungn4041.jpeg  \n",
            "  inflating: lung_data/lung_n/lungn4042.jpeg  \n",
            "  inflating: lung_data/lung_n/lungn4043.jpeg  \n",
            "  inflating: lung_data/lung_n/lungn4045.jpeg  \n",
            "  inflating: lung_data/lung_n/lungn4046.jpeg  \n",
            "  inflating: lung_data/lung_n/lungn4047.jpeg  \n",
            "  inflating: lung_data/lung_n/lungn4048.jpeg  \n",
            "  inflating: lung_data/lung_n/lungn4049.jpeg  \n",
            "  inflating: lung_data/lung_n/lungn4050.jpeg  \n",
            "  inflating: lung_data/lung_n/lungn4051.jpeg  \n"
          ]
        }
      ]
    },
    {
      "cell_type": "code",
      "execution_count": null,
      "metadata": {
        "id": "HvgxLLPBnYs7"
      },
      "outputs": [],
      "source": [
        "\n",
        "import os\n",
        "import numpy as np\n",
        "import pandas as pd\n",
        "import matplotlib.pyplot as plt\n",
        "import seaborn as sns\n",
        "import tensorflow as tf\n",
        "from tensorflow.keras.models import Sequential\n",
        "from tensorflow.keras.layers import Conv2D, MaxPooling2D, Flatten, Dense\n",
        "from tensorflow.keras.optimizers import Adamax\n",
        "from tensorflow.keras.preprocessing.image import ImageDataGenerator\n",
        "from sklearn.model_selection import train_test_split\n",
        "from sklearn.metrics import confusion_matrix, classification_report"
      ]
    },
    {
      "cell_type": "code",
      "source": [
        "# Set visualization styles\n",
        "sns.set_style('darkgrid')\n",
        "\n",
        "# Define function to generate data paths and labels for lung images\n",
        "def define_paths(dir):\n",
        "    filepaths = []\n",
        "    labels = []\n",
        "    lung_classes = ['lung_aca', 'lung_n', 'lung_scc']\n",
        "    for lung_class in lung_classes:\n",
        "        class_path = os.path.join(dir, lung_class)\n",
        "        if not os.path.exists(class_path):\n",
        "            print(f\"Directory {class_path} not found.\")\n",
        "            continue\n",
        "        for file in os.listdir(class_path):\n",
        "            filepaths.append(os.path.join(class_path, file))\n",
        "            labels.append(lung_class)  # Simplify to use class names directly\n",
        "    return filepaths, labels\n",
        "\n",
        "# Create a DataFrame from the file paths and labels\n",
        "def create_dataframe(filepaths, labels):\n",
        "    return pd.DataFrame({'filepaths': filepaths, 'labels': labels})\n",
        "\n",
        "# Load data and split into train, validation, and test sets\n",
        "def load_and_split_data(data_dir):\n",
        "    filepaths, labels = define_paths(data_dir)\n",
        "    df = create_dataframe(filepaths, labels)\n",
        "    train_df, test_df = train_test_split(df, test_size=0.2, random_state=42, stratify=df['labels'])\n",
        "    train_df, val_df = train_test_split(train_df, test_size=0.25, random_state=42, stratify=train_df['labels'])\n",
        "    return train_df, val_df, test_df\n",
        "\n",
        "# Define image data generators\n",
        "def create_generators(train_df, val_df, test_df, batch_size=32):\n",
        "    img_size = (224, 224)\n",
        "    train_gen = ImageDataGenerator(rescale=1./255, rotation_range=20, width_shift_range=0.2, height_shift_range=0.2,\n",
        "                                   shear_range=0.2, zoom_range=0.2, horizontal_flip=True, fill_mode='nearest')\n",
        "    test_gen = ImageDataGenerator(rescale=1./255)\n",
        "    train_generator = train_gen.flow_from_dataframe(train_df, x_col='filepaths', y_col='labels', target_size=img_size,\n",
        "                                                    class_mode='categorical', batch_size=batch_size, shuffle=True)\n",
        "    val_generator = test_gen.flow_from_dataframe(val_df, x_col='filepaths', y_col='labels', target_size=img_size,\n",
        "                                                 class_mode='categorical', batch_size=batch_size)\n",
        "    test_generator = test_gen.flow_from_dataframe(test_df, x_col='filepaths', y_col='labels', target_size=img_size,\n",
        "                                                  class_mode='categorical', batch_size=batch_size, shuffle=False)\n",
        "    return train_generator, val_generator, test_generator\n",
        "\n",
        "# Build and compile the model\n",
        "def build_model(input_shape):\n",
        "    model = Sequential([\n",
        "        Conv2D(32, (3, 3), activation='relu', input_shape=input_shape),\n",
        "        MaxPooling2D(2, 2),\n",
        "        Conv2D(64, (3, 3), activation='relu'),\n",
        "        MaxPooling2D(2, 2),\n",
        "        Conv2D(128, (3, 3), activation='relu'),\n",
        "        MaxPooling2D(2, 2),\n",
        "        Flatten(),\n",
        "        Dense(512, activation='relu'),\n",
        "        Dense(3, activation='softmax')  # Assumes three classes\n",
        "    ])\n",
        "    model.compile(optimizer=Adamax(learning_rate=0.001), loss='categorical_crossentropy', metrics=['accuracy'])\n",
        "    return model\n"
      ],
      "metadata": {
        "id": "DBM3njaTnzjm"
      },
      "execution_count": null,
      "outputs": []
    },
    {
      "cell_type": "code",
      "source": [
        "\n",
        "# Main script\n",
        "data_dir = input('Enter the directory of your lung data: ')\n",
        "train_df, val_df, test_df = load_and_split_data(data_dir)\n",
        "\n",
        "# Prepare generators\n",
        "train_gen, val_gen, test_gen = create_generators(train_df, val_df, test_df)\n",
        "\n",
        "# Build and train the model\n",
        "model = build_model((224, 224, 3))\n",
        "history = model.fit(train_gen, epochs=10, validation_data=val_gen)\n",
        "\n",
        "# Evaluate the model\n",
        "test_loss, test_acc = model.evaluate(test_gen)\n",
        "print(f\"Test Accuracy: {test_acc*100:.2f}%\")\n"
      ],
      "metadata": {
        "colab": {
          "base_uri": "https://localhost:8080/"
        },
        "id": "naV4eYdbnzmC",
        "outputId": "d43037a6-24a7-4e2e-9dc3-ab71d72233be"
      },
      "execution_count": null,
      "outputs": [
        {
          "output_type": "stream",
          "name": "stdout",
          "text": [
            "Enter the directory of your lung data: /content/lung_data\n",
            "Found 90 validated image filenames belonging to 3 classes.\n",
            "Found 30 validated image filenames belonging to 3 classes.\n",
            "Found 30 validated image filenames belonging to 3 classes.\n",
            "Epoch 1/10\n",
            "3/3 [==============================] - 9s 3s/step - loss: 5.6469 - accuracy: 0.3000 - val_loss: 2.4168 - val_accuracy: 0.3333\n",
            "Epoch 2/10\n",
            "3/3 [==============================] - 8s 3s/step - loss: 2.3737 - accuracy: 0.3000 - val_loss: 1.2857 - val_accuracy: 0.6333\n",
            "Epoch 3/10\n",
            "3/3 [==============================] - 8s 3s/step - loss: 1.0147 - accuracy: 0.6111 - val_loss: 0.6363 - val_accuracy: 0.6333\n",
            "Epoch 4/10\n",
            "3/3 [==============================] - 8s 2s/step - loss: 0.6265 - accuracy: 0.6333 - val_loss: 0.5499 - val_accuracy: 0.6333\n",
            "Epoch 5/10\n",
            "3/3 [==============================] - 8s 2s/step - loss: 0.5245 - accuracy: 0.6889 - val_loss: 0.6179 - val_accuracy: 0.6333\n",
            "Epoch 6/10\n",
            "3/3 [==============================] - 9s 3s/step - loss: 0.4967 - accuracy: 0.7333 - val_loss: 0.5306 - val_accuracy: 0.7333\n",
            "Epoch 7/10\n",
            "3/3 [==============================] - 8s 3s/step - loss: 0.4728 - accuracy: 0.7222 - val_loss: 0.5092 - val_accuracy: 0.7667\n",
            "Epoch 8/10\n",
            "3/3 [==============================] - 8s 3s/step - loss: 0.4591 - accuracy: 0.7333 - val_loss: 0.5513 - val_accuracy: 0.7000\n",
            "Epoch 9/10\n",
            "3/3 [==============================] - 8s 2s/step - loss: 0.4435 - accuracy: 0.7333 - val_loss: 0.4990 - val_accuracy: 0.7667\n",
            "Epoch 10/10\n",
            "3/3 [==============================] - 8s 3s/step - loss: 0.4229 - accuracy: 0.8000 - val_loss: 0.5157 - val_accuracy: 0.7000\n",
            "1/1 [==============================] - 1s 655ms/step - loss: 0.6130 - accuracy: 0.7000\n",
            "Test Accuracy: 70.00%\n"
          ]
        }
      ]
    },
    {
      "cell_type": "code",
      "source": [
        "\n",
        "# Generate predictions and display classification report\n",
        "predictions = model.predict(test_gen)\n",
        "predicted_classes = np.argmax(predictions, axis=1)\n",
        "true_classes = test_gen.classes\n",
        "class_labels = list(test_gen.class_indices.keys())\n",
        "report = classification_report(true_classes, predicted_classes, target_names=class_labels)\n",
        "print(report)\n"
      ],
      "metadata": {
        "colab": {
          "base_uri": "https://localhost:8080/"
        },
        "id": "uUceamsmnzol",
        "outputId": "34cb4e23-d534-4780-dafc-5c74ed1d4b6b"
      },
      "execution_count": null,
      "outputs": [
        {
          "output_type": "stream",
          "name": "stdout",
          "text": [
            "1/1 [==============================] - 1s 894ms/step\n",
            "              precision    recall  f1-score   support\n",
            "\n",
            "    lung_aca       0.60      0.30      0.40        10\n",
            "      lung_n       0.90      0.90      0.90        10\n",
            "    lung_scc       0.60      0.90      0.72        10\n",
            "\n",
            "    accuracy                           0.70        30\n",
            "   macro avg       0.70      0.70      0.67        30\n",
            "weighted avg       0.70      0.70      0.67        30\n",
            "\n"
          ]
        }
      ]
    },
    {
      "cell_type": "code",
      "source": [
        "\n",
        "# Ask for an image input for prediction\n",
        "image_path = input(\"Enter the path to the image you want to classify: \")\n",
        "\n",
        "# Load and preprocess the input image\n",
        "img = tf.keras.preprocessing.image.load_img(image_path, target_size=(224, 224))\n",
        "img_array = tf.keras.preprocessing.image.img_to_array(img)\n",
        "img_array = tf.expand_dims(img_array, 0)  # Create batch axis\n",
        "img_array /= 255.0  # Rescale pixel values\n",
        "\n",
        "# Make predictions\n",
        "predictions = model.predict(img_array)\n",
        "predicted_class_index = np.argmax(predictions[0])\n",
        "class_labels = list(test_gen.class_indices.keys())\n",
        "predicted_class = class_labels[predicted_class_index]\n",
        "\n",
        "# Display the prediction result\n",
        "print(\"Predicted Class:\", predicted_class)\n",
        "\n",
        "# Save the model if needed\n",
        "model.save('lung_cancer_detection_model.h5')\n",
        "\n",
        "# Plotting classification report metrics\n",
        "report_data = classification_report(true_classes, predicted_classes, target_names=class_labels, output_dict=True)\n",
        "df = pd.DataFrame(report_data).transpose()\n",
        "df = df.drop(['support'], axis=1)  # Drop the 'support' column\n",
        "df.plot(kind='bar', figsize=(10,6))\n",
        "plt.title('Classification Report Metrics')\n",
        "plt.xlabel('Class')\n",
        "plt.ylabel('Score')\n",
        "plt.grid(axis='y')\n",
        "plt.show()  # Add this line to prevent scrolling"
      ],
      "metadata": {
        "colab": {
          "base_uri": "https://localhost:8080/",
          "height": 589
        },
        "id": "6p7R_fyhnzq_",
        "outputId": "2580851d-e7fc-4ac7-8cde-7fcdd253e021"
      },
      "execution_count": null,
      "outputs": [
        {
          "output_type": "stream",
          "name": "stdout",
          "text": [
            "Enter the path to the image you want to classify: /content/demonil.jpg\n",
            "1/1 [==============================] - 0s 41ms/step\n",
            "Predicted Class: lung_aca\n"
          ]
        },
        {
          "output_type": "stream",
          "name": "stderr",
          "text": [
            "/usr/local/lib/python3.10/dist-packages/keras/src/engine/training.py:3103: UserWarning: You are saving your model as an HDF5 file via `model.save()`. This file format is considered legacy. We recommend using instead the native Keras format, e.g. `model.save('my_model.keras')`.\n",
            "  saving_api.save_model(\n"
          ]
        },
        {
          "output_type": "display_data",
          "data": {
            "text/plain": [
              "<Figure size 1000x600 with 1 Axes>"
            ],
            "image/png": "[encoded data removed]"
          },
          "metadata": {}
        }
      ]
    },
    {
      "cell_type": "code",
      "source": [
        "# Generate performance metrics\n",
        "predictions = model.predict(test_gen)\n",
        "predicted_classes = np.argmax(predictions, axis=1)\n",
        "true_classes = test_gen.classes\n",
        "class_labels = list(test_gen.class_indices.keys())\n",
        "report = classification_report(true_classes, predicted_classes, target_names=class_labels)\n",
        "\n",
        "# Generate confusion matrix\n",
        "conf_matrix = confusion_matrix(true_classes, predicted_classes)\n",
        "\n",
        "# Calculate accuracy and validation results\n",
        "accuracy = np.sum(predicted_classes == true_classes) / len(true_classes)\n",
        "validation_results = model.evaluate(test_gen)\n",
        "\n",
        "# Display results\n",
        "print(\"Performance Metrics:\")\n",
        "print(report)\n",
        "\n",
        "print(\"\\nConfusion Matrix:\")\n",
        "print(conf_matrix)\n",
        "\n",
        "print(\"\\nAccuracy:\")\n",
        "print(f\"Accuracy: {accuracy*100:.2f}%\")\n",
        "\n",
        "print(\"\\nValidation Results:\")\n",
        "print(f\"Test Loss: {validation_results[0]}\")\n",
        "print(f\"Test Accuracy: {validation_results[1]*100:.2f}%\")\n"
      ],
      "metadata": {
        "id": "VfPiYZEMnztZ",
        "colab": {
          "base_uri": "https://localhost:8080/"
        },
        "outputId": "da9edae5-c247-49c7-bcce-c280667fd348"
      },
      "execution_count": null,
      "outputs": [
        {
          "output_type": "stream",
          "name": "stdout",
          "text": [
            "1/1 [==============================] - 1s 1s/step\n",
            "1/1 [==============================] - 2s 2s/step - loss: 0.6130 - accuracy: 0.7000\n",
            "Performance Metrics:\n",
            "              precision    recall  f1-score   support\n",
            "\n",
            "    lung_aca       0.60      0.30      0.40        10\n",
            "      lung_n       0.90      0.90      0.90        10\n",
            "    lung_scc       0.60      0.90      0.72        10\n",
            "\n",
            "    accuracy                           0.70        30\n",
            "   macro avg       0.70      0.70      0.67        30\n",
            "weighted avg       0.70      0.70      0.67        30\n",
            "\n",
            "\n",
            "Confusion Matrix:\n",
            "[[3 1 6]\n",
            " [1 9 0]\n",
            " [1 0 9]]\n",
            "\n",
            "Accuracy:\n",
            "Accuracy: 70.00%\n",
            "\n",
            "Validation Results:\n",
            "Test Loss: 0.61298006772995\n",
            "Test Accuracy: 70.00%\n"
          ]
        }
      ]
    },
    {
      "cell_type": "code",
      "source": [],
      "metadata": {
        "id": "PfHi0huDnzv2"
      },
      "execution_count": null,
      "outputs": []
    },
    {
      "cell_type": "code",
      "source": [],
      "metadata": {
        "id": "EL6eFoFOnzyZ"
      },
      "execution_count": null,
      "outputs": []
    },
    {
      "cell_type": "code",
      "source": [],
      "metadata": {
        "id": "EpgRiVRFnz0m"
      },
      "execution_count": null,
      "outputs": []
    },
    {
      "cell_type": "code",
      "source": [],
      "metadata": {
        "id": "unno5rhCnz3C"
      },
      "execution_count": null,
      "outputs": []
    }
  ]
}