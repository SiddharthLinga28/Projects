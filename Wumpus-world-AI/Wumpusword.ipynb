{
  "nbformat": 4,
  "nbformat_minor": 0,
  "metadata": {
    "colab": {
      "provenance": []
    },
    "kernelspec": {
      "name": "python3",
      "display_name": "Python 3"
    },
    "language_info": {
      "name": "python"
    }
  },
  "cells": [
    {
      "cell_type": "code",
      "execution_count": null,
      "metadata": {
        "id": "vqO9bYasDNsj"
      },
      "outputs": [],
      "source": [
        "import random\n",
        "\n",
        "class WumpusWorld:\n",
        "    def __init__(self, size=4, pit_ratio=0.2):\n",
        "        self.size = size\n",
        "        self.grid = [['' for _ in range(size)] for _ in range(size)]\n",
        "        self.percepts = [[set() for _ in range(size)] for _ in range(size)]\n",
        "        self.pit_ratio = pit_ratio\n",
        "        self.place_elements()\n",
        "\n",
        "    def place_elements(self):\n",
        "        total_cells = self.size * self.size\n",
        "        pit_count = int(total_cells * self.pit_ratio)\n",
        "        self._place_random('P', pit_count, avoid={(0,0)})\n",
        "        self._place_random('W', 1, avoid={(0,0)})\n",
        "        self._place_random('G', 1, avoid={(0,0)})\n",
        "\n",
        "        for i in range(self.size):\n",
        "            for j in range(self.size):\n",
        "                if 'P' in self.grid[i][j]:\n",
        "                    self._add_adjacent_percept(i, j, 'breeze')\n",
        "                if 'W' in self.grid[i][j]:\n",
        "                    self._add_adjacent_percept(i, j, 'stench')\n",
        "                if 'G' in self.grid[i][j]:\n",
        "                    self.percepts[i][j].add('glitter')\n",
        "\n",
        "    def _place_random(self, symbol, count, avoid=set()):\n",
        "        placed = 0\n",
        "        while placed < count:\n",
        "            i, j = random.randint(0, self.size-1), random.randint(0, self.size-1)\n",
        "            if (i, j) not in avoid and symbol not in self.grid[i][j]:\n",
        "                self.grid[i][j] += symbol\n",
        "                placed += 1\n",
        "\n",
        "    def _add_adjacent_percept(self, i, j, percept):\n",
        "        for dx, dy in [(-1,0),(1,0),(0,-1),(0,1)]:\n",
        "            ni, nj = i + dx, j + dy\n",
        "            if 0 <= ni < self.size and 0 <= nj < self.size:\n",
        "                self.percepts[ni][nj].add(percept)\n",
        "\n",
        "    def print_world(self):\n",
        "        for row in self.grid[::-1]:\n",
        "            print(row)\n"
      ]
    },
    {
      "cell_type": "code",
      "source": [
        "def generate_chromosome(length=20):\n",
        "    actions = ['Move', 'TurnLeft', 'TurnRight', 'Shoot', 'Grab']\n",
        "    return [random.choice(actions) for _ in range(length)]\n",
        "\n",
        "def fitness(chromosome, env):\n",
        "    score = 0\n",
        "    arrow_used = False\n",
        "    survived = True\n",
        "    found_gold = False\n",
        "    pos = [0, 0]\n",
        "\n",
        "    for action in chromosome:\n",
        "        percept = env.percepts[pos[0]][pos[1]]\n",
        "\n",
        "        if 'breeze' in percept or 'stench' in percept:\n",
        "            survived = False\n",
        "            break\n",
        "\n",
        "        if action == 'Grab' and 'glitter' in percept:\n",
        "            found_gold = True\n",
        "            score += 100\n",
        "\n",
        "        elif action == 'Move':\n",
        "            pos[0] = min(env.size - 1, pos[0] + 1)\n",
        "\n",
        "        elif action == 'Shoot' and not arrow_used:\n",
        "            arrow_used = True\n",
        "            score += 50 if random.random() > 0.5 else -10\n",
        "\n",
        "    score += 50 if survived else -100\n",
        "    if found_gold:\n",
        "        score += 50\n",
        "    return score\n",
        "\n",
        "def crossover(p1, p2):\n",
        "    point = random.randint(1, len(p1) - 1)\n",
        "    return p1[:point] + p2[point:]\n",
        "\n",
        "def mutate(chromosome, mutation_rate=0.05):\n",
        "    actions = ['Move', 'TurnLeft', 'TurnRight', 'Shoot', 'Grab']\n",
        "    return [random.choice(actions) if random.random() < mutation_rate else gene for gene in chromosome]\n"
      ],
      "metadata": {
        "id": "rFAGw_-vDSY7"
      },
      "execution_count": null,
      "outputs": []
    },
    {
      "cell_type": "code",
      "source": [
        "def run_simulation(env, generations=30, pop_size=50):\n",
        "    population = [generate_chromosome() for _ in range(pop_size)]\n",
        "    best_scores = []\n",
        "\n",
        "    for gen in range(generations):\n",
        "        scores = [fitness(ch, env) for ch in population]\n",
        "        sorted_pop = [x for _, x in sorted(zip(scores, population), reverse=True)]\n",
        "        best_score = max(scores)\n",
        "        best_scores.append(best_score)\n",
        "\n",
        "        next_gen = sorted_pop[:10]\n",
        "        while len(next_gen) < pop_size:\n",
        "            parent1, parent2 = random.choices(sorted_pop[:25], k=2)\n",
        "            child = mutate(crossover(parent1, parent2))\n",
        "            next_gen.append(child)\n",
        "\n",
        "        population = next_gen\n",
        "        print(f\"Generation {gen+1}: Best Score = {best_score}\")\n",
        "\n",
        "    return sorted_pop[0], best_scores\n"
      ],
      "metadata": {
        "id": "Q_g-8LbeDSVY"
      },
      "execution_count": null,
      "outputs": []
    },
    {
      "cell_type": "code",
      "source": [
        "env = WumpusWorld(size=4)\n",
        "print(\"Wumpus World Grid:\")\n",
        "env.print_world()\n",
        "\n",
        "best_chrom, scores = run_simulation(env)\n",
        "\n",
        "print(\"\\nBest chromosome (action plan):\")\n",
        "print(best_chrom)\n"
      ],
      "metadata": {
        "colab": {
          "base_uri": "https://localhost:8080/"
        },
        "id": "ra1rwdeCDSR3",
        "outputId": "3dc38ae3-75f0-4572-f0d7-fb17411558e8"
      },
      "execution_count": null,
      "outputs": [
        {
          "output_type": "stream",
          "name": "stdout",
          "text": [
            "Wumpus World Grid:\n",
            "['PG', '', '', '']\n",
            "['', '', '', '']\n",
            "['', '', 'W', 'P']\n",
            "['', '', '', 'P']\n",
            "Generation 1: Best Score = 100\n",
            "Generation 2: Best Score = 100\n",
            "Generation 3: Best Score = 100\n",
            "Generation 4: Best Score = 100\n",
            "Generation 5: Best Score = 100\n",
            "Generation 6: Best Score = 100\n",
            "Generation 7: Best Score = 100\n",
            "Generation 8: Best Score = 100\n",
            "Generation 9: Best Score = 100\n",
            "Generation 10: Best Score = 100\n",
            "Generation 11: Best Score = 100\n",
            "Generation 12: Best Score = 100\n",
            "Generation 13: Best Score = 100\n",
            "Generation 14: Best Score = 100\n",
            "Generation 15: Best Score = 100\n",
            "Generation 16: Best Score = 100\n",
            "Generation 17: Best Score = 100\n",
            "Generation 18: Best Score = 100\n",
            "Generation 19: Best Score = 100\n",
            "Generation 20: Best Score = 100\n",
            "Generation 21: Best Score = 100\n",
            "Generation 22: Best Score = 100\n",
            "Generation 23: Best Score = 100\n",
            "Generation 24: Best Score = 100\n",
            "Generation 25: Best Score = 100\n",
            "Generation 26: Best Score = 100\n",
            "Generation 27: Best Score = 100\n",
            "Generation 28: Best Score = 100\n",
            "Generation 29: Best Score = 100\n",
            "Generation 30: Best Score = 100\n",
            "\n",
            "Best chromosome (action plan):\n",
            "['TurnRight', 'TurnRight', 'TurnRight', 'TurnRight', 'TurnRight', 'TurnRight', 'TurnRight', 'TurnRight', 'TurnRight', 'TurnLeft', 'Shoot', 'TurnLeft', 'Grab', 'TurnRight', 'Shoot', 'TurnLeft', 'TurnLeft', 'Grab', 'Move', 'TurnLeft']\n"
          ]
        }
      ]
    },
    {
      "cell_type": "code",
      "source": [
        "!pip install matplotlib\n"
      ],
      "metadata": {
        "colab": {
          "base_uri": "https://localhost:8080/"
        },
        "id": "NVLGyJWUDSOI",
        "outputId": "97a48655-2255-486a-d7a8-e5230aad53a0"
      },
      "execution_count": null,
      "outputs": [
        {
          "output_type": "stream",
          "name": "stdout",
          "text": [
            "Requirement already satisfied: matplotlib in /usr/local/lib/python3.11/dist-packages (3.10.0)\n",
            "Requirement already satisfied: contourpy>=1.0.1 in /usr/local/lib/python3.11/dist-packages (from matplotlib) (1.3.2)\n",
            "Requirement already satisfied: cycler>=0.10 in /usr/local/lib/python3.11/dist-packages (from matplotlib) (0.12.1)\n",
            "Requirement already satisfied: fonttools>=4.22.0 in /usr/local/lib/python3.11/dist-packages (from matplotlib) (4.57.0)\n",
            "Requirement already satisfied: kiwisolver>=1.3.1 in /usr/local/lib/python3.11/dist-packages (from matplotlib) (1.4.8)\n",
            "Requirement already satisfied: numpy>=1.23 in /usr/local/lib/python3.11/dist-packages (from matplotlib) (2.0.2)\n",
            "Requirement already satisfied: packaging>=20.0 in /usr/local/lib/python3.11/dist-packages (from matplotlib) (24.2)\n",
            "Requirement already satisfied: pillow>=8 in /usr/local/lib/python3.11/dist-packages (from matplotlib) (11.1.0)\n",
            "Requirement already satisfied: pyparsing>=2.3.1 in /usr/local/lib/python3.11/dist-packages (from matplotlib) (3.2.3)\n",
            "Requirement already satisfied: python-dateutil>=2.7 in /usr/local/lib/python3.11/dist-packages (from matplotlib) (2.8.2)\n",
            "Requirement already satisfied: six>=1.5 in /usr/local/lib/python3.11/dist-packages (from python-dateutil>=2.7->matplotlib) (1.17.0)\n"
          ]
        }
      ]
    },
    {
      "cell_type": "code",
      "source": [
        "import matplotlib.pyplot as plt\n",
        "import matplotlib.patches as patches\n",
        "import time\n",
        "from IPython.display import clear_output\n",
        "\n",
        "def draw_grid(env, agent_pos):\n",
        "    size = env.size\n",
        "    fig, ax = plt.subplots(figsize=(5, 5))\n",
        "    ax.set_xlim(0, size)\n",
        "    ax.set_ylim(0, size)\n",
        "    ax.set_xticks(range(size+1))\n",
        "    ax.set_yticks(range(size+1))\n",
        "    ax.grid(True)\n",
        "    ax.set_aspect('equal')\n",
        "\n",
        "    for i in range(size):\n",
        "        for j in range(size):\n",
        "            cell_content = env.grid[i][j]\n",
        "            color = 'green'\n",
        "\n",
        "            if 'P' in cell_content:\n",
        "                color = 'black'\n",
        "            elif 'G' in cell_content:\n",
        "                color = 'yellow'\n",
        "            elif 'W' in cell_content:\n",
        "                color = 'white'\n",
        "\n",
        "            rect = patches.Rectangle((j, size-1-i), 1, 1, linewidth=1, edgecolor='gray', facecolor=color)\n",
        "            ax.add_patch(rect)\n",
        "\n",
        "            if 'W' in cell_content:\n",
        "                circ = patches.Circle((j+0.5, size-1-i+0.5), 0.3, color='red')\n",
        "                ax.add_patch(circ)\n",
        "\n",
        "    ax.add_patch(patches.Circle((agent_pos[1]+0.5, size-1-agent_pos[0]+0.5), 0.3, color='lightblue'))\n",
        "\n",
        "    plt.xticks([])\n",
        "    plt.yticks([])\n",
        "    plt.box(False)\n",
        "    plt.show()\n",
        "\n",
        "def simulate_actions_with_animation(env, chromosome):\n",
        "    pos = [0, 0]\n",
        "    draw_grid(env, pos)\n",
        "    time.sleep(1)\n",
        "\n",
        "    for action in chromosome:\n",
        "        if action == 'Move' and pos[0] < env.size - 1:\n",
        "            pos[0] += 1  # Moves down in simplified logic\n",
        "\n",
        "        clear_output(wait=True)\n",
        "        draw_grid(env, pos)\n",
        "        time.sleep(0.8)\n",
        "\n",
        "    print(\"Simulation complete.\")\n"
      ],
      "metadata": {
        "id": "5_DhPnPVDSK3"
      },
      "execution_count": null,
      "outputs": []
    },
    {
      "cell_type": "code",
      "source": [
        "\n",
        "simulate_actions_with_animation(env, best_chrom)\n"
      ],
      "metadata": {
        "colab": {
          "base_uri": "https://localhost:8080/",
          "height": 439
        },
        "id": "z9UbLiRpFIan",
        "outputId": "14c21b27-9cd3-4fe9-edac-5cf83b10e2bf"
      },
      "execution_count": null,
      "outputs": [
        {
          "output_type": "display_data",
          "data": {
            "text/plain": [
              "<Figure size 500x500 with 1 Axes>"
            ],
            "image/png": "[encoded data removed]"
          },
          "metadata": {}
        },
        {
          "output_type": "stream",
          "name": "stdout",
          "text": [
            "Simulation complete.\n"
          ]
        }
      ]
    },
    {
      "cell_type": "code",
      "source": [],
      "metadata": {
        "id": "uq8y_03RFIVc"
      },
      "execution_count": null,
      "outputs": []
    },
    {
      "cell_type": "code",
      "source": [],
      "metadata": {
        "id": "ASkUqLcGFISh"
      },
      "execution_count": null,
      "outputs": []
    },
    {
      "cell_type": "markdown",
      "source": [
        "#HEAD"
      ],
      "metadata": {
        "id": "HgoAW9sbH9bl"
      }
    },
    {
      "cell_type": "code",
      "source": [
        "# 📦 Setup\n",
        "import random\n",
        "import matplotlib.pyplot as plt\n",
        "import matplotlib.patches as patches\n",
        "import time\n",
        "from IPython.display import clear_output\n",
        "\n",
        "# 📌 Direction logic\n",
        "directions = ['N', 'E', 'S', 'W']\n",
        "dx = {'N': -1, 'E': 0, 'S': 1, 'W': 0}\n",
        "dy = {'N': 0, 'E': 1, 'S': 0, 'W': -1}\n",
        "\n",
        "# 🌍 Environment Class\n",
        "class WumpusWorld:\n",
        "    def __init__(self, size=4, pit_ratio=0.2):\n",
        "        self.size = size\n",
        "        self.grid = [['' for _ in range(size)] for _ in range(size)]\n",
        "        self.percepts = [[set() for _ in range(size)] for _ in range(size)]\n",
        "        self.pit_ratio = pit_ratio\n",
        "        self.wumpus_alive = True\n",
        "        self.place_elements()\n",
        "\n",
        "    def place_elements(self):\n",
        "        total_cells = self.size * self.size\n",
        "        pit_count = int(total_cells * self.pit_ratio)\n",
        "        occupied = {(0, 0)}\n",
        "\n",
        "        for i, j in self._get_random_positions(pit_count, occupied):\n",
        "            self.grid[i][j] = 'P'\n",
        "            occupied.add((i, j))\n",
        "\n",
        "        i, j = self._get_random_positions(1, occupied)[0]\n",
        "        self.grid[i][j] = 'W'\n",
        "        self.wumpus_pos = (i, j)\n",
        "        occupied.add((i, j))\n",
        "\n",
        "        i, j = self._get_random_positions(1, occupied)[0]\n",
        "        self.grid[i][j] = 'G'\n",
        "        self.gold_pos = (i, j)\n",
        "        occupied.add((i, j))\n",
        "\n",
        "        for i in range(self.size):\n",
        "            for j in range(self.size):\n",
        "                if 'P' in self.grid[i][j]:\n",
        "                    self._add_adjacent_percept(i, j, 'breeze')\n",
        "                if 'W' in self.grid[i][j]:\n",
        "                    self._add_adjacent_percept(i, j, 'stench')\n",
        "                if 'G' in self.grid[i][j]:\n",
        "                    self.percepts[i][j].add('glitter')\n",
        "\n",
        "    def _get_random_positions(self, count, avoid):\n",
        "        positions = []\n",
        "        while len(positions) < count:\n",
        "            i, j = random.randint(0, self.size - 1), random.randint(0, self.size - 1)\n",
        "            if (i, j) not in avoid:\n",
        "                positions.append((i, j))\n",
        "                avoid.add((i, j))\n",
        "        return positions\n",
        "\n",
        "    def _add_adjacent_percept(self, i, j, percept):\n",
        "        for di, dj in [(-1,0), (1,0), (0,-1), (0,1)]:\n",
        "            ni, nj = i + di, j + dj\n",
        "            if 0 <= ni < self.size and 0 <= nj < self.size:\n",
        "                self.percepts[ni][nj].add(percept)\n",
        "\n",
        "    def print_world(self):\n",
        "        for row in self.grid[::-1]:\n",
        "            print(row)\n",
        "\n",
        "# 🎨 Visualization\n",
        "def draw_grid(env, agent_pos, path, direction, action_text, step_idx, status=\"playing\"):\n",
        "    size = env.size\n",
        "    fig, ax = plt.subplots(figsize=(5, 5))\n",
        "    ax.set_xlim(0, size)\n",
        "    ax.set_ylim(0, size)\n",
        "    ax.set_xticks(range(size+1))\n",
        "    ax.set_yticks(range(size+1))\n",
        "    ax.grid(True)\n",
        "    ax.set_aspect('equal')\n",
        "\n",
        "    for i in range(size):\n",
        "        for j in range(size):\n",
        "            cell = env.grid[i][j]\n",
        "            color = 'green'\n",
        "            if 'P' in cell:\n",
        "                color = 'black'\n",
        "            elif 'G' in cell:\n",
        "                color = 'yellow'\n",
        "            elif 'W' in cell and env.wumpus_alive:\n",
        "                color = 'white'\n",
        "            ax.add_patch(patches.Rectangle((j, size-1-i), 1, 1, edgecolor='gray', facecolor=color))\n",
        "            if 'W' in cell and env.wumpus_alive:\n",
        "                ax.add_patch(patches.Circle((j+0.5, size-1-i+0.5), 0.3, color='red'))\n",
        "\n",
        "    for (x, y) in path:\n",
        "        ax.add_patch(patches.Circle((y+0.5, size-1-x+0.5), 0.1, color='blue'))\n",
        "\n",
        "    arrow = {'N': '^', 'E': '>', 'S': 'v', 'W': '<'}[direction]\n",
        "    ax.text(agent_pos[1]+0.35, size-1-agent_pos[0]+0.35, arrow, fontsize=16, color='lightblue')\n",
        "\n",
        "    ax.set_title(f\"Step {step_idx+1}: {action_text} | Status: {status}\", fontsize=12)\n",
        "    plt.xticks([]), plt.yticks([]), plt.box(False)\n",
        "    plt.show()\n",
        "\n",
        "# 🤖 Main Simulation\n",
        "def simulate_with_animation(env, chromosome):\n",
        "    pos = [0, 0]\n",
        "    direction = 'E'\n",
        "    path = [tuple(pos)]\n",
        "    visited = set(path)\n",
        "    arrow_used = False\n",
        "    grabbed_gold = False\n",
        "    status = 'playing'\n",
        "    returning = False\n",
        "\n",
        "    def turn_toward(current, target):\n",
        "        while directions.index(current) != directions.index(target):\n",
        "            yield 'TurnRight'\n",
        "            current = directions[(directions.index(current) + 1) % 4]\n",
        "\n",
        "    def return_to_start():\n",
        "        return_path = []\n",
        "        cx, cy = pos\n",
        "        while (cx, cy) != (0, 0):\n",
        "            if cx > 0 and (cx-1, cy) in visited:\n",
        "                return_path.extend(turn_toward(direction, 'N'))\n",
        "                return_path.append('Move')\n",
        "                cx -= 1\n",
        "            elif cy > 0 and (cx, cy-1) in visited:\n",
        "                return_path.extend(turn_toward(direction, 'W'))\n",
        "                return_path.append('Move')\n",
        "                cy -= 1\n",
        "            elif cy < env.size-1 and (cx, cy+1) in visited:\n",
        "                return_path.extend(turn_toward(direction, 'E'))\n",
        "                return_path.append('Move')\n",
        "                cy += 1\n",
        "            elif cx < env.size-1 and (cx+1, cy) in visited:\n",
        "                return_path.extend(turn_toward(direction, 'S'))\n",
        "                return_path.append('Move')\n",
        "                cx += 1\n",
        "            else:\n",
        "                break\n",
        "        return return_path\n",
        "\n",
        "    idx = 0\n",
        "    while idx < len(chromosome):\n",
        "        action = chromosome[idx]\n",
        "        idx += 1\n",
        "\n",
        "        if action == 'Move':\n",
        "            ni, nj = pos[0] + dx[direction], pos[1] + dy[direction]\n",
        "            if 0 <= ni < env.size and 0 <= nj < env.size:\n",
        "                pos = [ni, nj]\n",
        "                path.append(tuple(pos))\n",
        "                visited.add(tuple(pos))\n",
        "            else:\n",
        "                status = 'bump'\n",
        "\n",
        "        elif action == 'TurnLeft':\n",
        "            direction = directions[(directions.index(direction) - 1) % 4]\n",
        "        elif action == 'TurnRight':\n",
        "            direction = directions[(directions.index(direction) + 1) % 4]\n",
        "        elif action == 'Shoot' and not arrow_used:\n",
        "            arrow_used = True\n",
        "            for k in range(1, env.size):\n",
        "                ni, nj = pos[0] + dx[direction]*k, pos[1] + dy[direction]*k\n",
        "                if not (0 <= ni < env.size and 0 <= nj < env.size): break\n",
        "                if (ni, nj) == env.wumpus_pos:\n",
        "                    env.grid[ni][nj] = ''\n",
        "                    env.wumpus_alive = False\n",
        "                    status = 'scream'\n",
        "                    break\n",
        "        elif action == 'Grab' and 'G' in env.grid[pos[0]][pos[1]]:\n",
        "            grabbed_gold = True\n",
        "            env.grid[pos[0]][pos[1]] = ''\n",
        "            chromosome += return_to_start()\n",
        "            returning = True\n",
        "            continue\n",
        "\n",
        "        if 'P' in env.grid[pos[0]][pos[1]] or ('W' in env.grid[pos[0]][pos[1]] and env.wumpus_alive):\n",
        "            status = 'dead'\n",
        "            draw_grid(env, pos, path, direction, action, idx, status)\n",
        "            break\n",
        "\n",
        "        clear_output(wait=True)\n",
        "        draw_grid(env, pos, path, direction, action, idx, status)\n",
        "        status = 'playing'\n",
        "        time.sleep(0.6)\n",
        "\n",
        "    print(\"\\n----- FINAL RESULT -----\")\n",
        "    print(f\"📍 Final Position: {pos}\")\n",
        "    print(f\"🧭 Final Direction: {direction}\")\n",
        "    print(f\"🟦 Path Taken: {path}\")\n",
        "    print(f\"🏹 Arrow Used: {arrow_used}\")\n",
        "    print(f\"💰 Gold Grabbed: {grabbed_gold}\")\n",
        "    print(f\"🎯 Status: {'WON' if grabbed_gold and pos == [0, 0] else 'DEAD' if status == 'dead' else 'SURVIVED'}\")\n",
        "\n",
        "# ✅ Example Execution\n",
        "env = WumpusWorld(size=4)\n",
        "env.print_world()\n",
        "\n",
        "# Sample test chromosome\n",
        "sample_chrom = ['Move', 'Move', 'TurnRight', 'Move', 'Grab']\n",
        "simulate_with_animation(env, sample_chrom)\n"
      ],
      "metadata": {
        "colab": {
          "base_uri": "https://localhost:8080/",
          "height": 583
        },
        "id": "Dhr9N6vrH9E5",
        "outputId": "446c8f5b-9447-4315-f9c1-ab3e930efc7f"
      },
      "execution_count": null,
      "outputs": [
        {
          "output_type": "display_data",
          "data": {
            "text/plain": [
              "<Figure size 500x500 with 1 Axes>"
            ],
            "image/png": "[encoded data removed]"
          },
          "metadata": {}
        },
        {
          "output_type": "stream",
          "name": "stdout",
          "text": [
            "\n",
            "----- FINAL RESULT -----\n",
            "📍 Final Position: [1, 2]\n",
            "🧭 Final Direction: S\n",
            "🟦 Path Taken: [(0, 0), (0, 1), (0, 2), (1, 2)]\n",
            "🏹 Arrow Used: False\n",
            "💰 Gold Grabbed: False\n",
            "🎯 Status: SURVIVED\n"
          ]
        }
      ]
    },
    {
      "cell_type": "code",
      "source": [
        "env = WumpusWorld(size=4)\n",
        "env.print_world()\n",
        "\n",
        "# Full sample chromosome to test every feature\n",
        "sample_chrom = ['Move', 'Move', 'TurnRight', 'Move', 'Grab', 'TurnLeft', 'Move', 'Shoot']\n",
        "simulate_with_animation(env, sample_chrom)\n"
      ],
      "metadata": {
        "colab": {
          "base_uri": "https://localhost:8080/",
          "height": 1000
        },
        "id": "AhaxGg3nH9CC",
        "outputId": "b9e247b6-9e07-4cd4-dd6d-8af3b5f02181"
      },
      "execution_count": null,
      "outputs": [
        {
          "output_type": "display_data",
          "data": {
            "text/plain": [
              "<Figure size 500x500 with 1 Axes>"
            ],
            "image/png": "[encoded data removed]"
          },
          "metadata": {}
        },
        {
          "output_type": "display_data",
          "data": {
            "text/plain": [
              "<Figure size 500x500 with 1 Axes>"
            ],
            "image/png": "[encoded data removed]"
          },
          "metadata": {}
        },
        {
          "output_type": "stream",
          "name": "stdout",
          "text": [
            "\n",
            "----- FINAL RESULT -----\n",
            "📍 Final Position: [1, 2]\n",
            "🧭 Final Direction: S\n",
            "🟦 Path Taken: [(0, 0), (0, 1), (0, 2), (1, 2)]\n",
            "🏹 Arrow Used: False\n",
            "💰 Gold Grabbed: False\n",
            "🎯 Status: DEAD\n"
          ]
        }
      ]
    },
    {
      "cell_type": "markdown",
      "source": [
        "# Main part"
      ],
      "metadata": {
        "id": "fOhbqi2O5ywI"
      }
    },
    {
      "cell_type": "code",
      "source": [
        "import random\n",
        "import matplotlib.pyplot as plt\n",
        "import matplotlib.patches as patches\n",
        "import time\n",
        "from IPython.display import clear_output\n",
        "\n",
        "# Directions\n",
        "directions = ['N', 'E', 'S', 'W']\n",
        "dx = {'N': -1, 'E': 0, 'S': 1, 'W': 0}\n",
        "dy = {'N': 0, 'E': 1, 'S': 0, 'W': -1}\n"
      ],
      "metadata": {
        "id": "E67WQumz5ymr"
      },
      "execution_count": 8,
      "outputs": []
    },
    {
      "cell_type": "code",
      "source": [
        "class WumpusWorld:\n",
        "    def __init__(self, size=4, pit_ratio=0.2):\n",
        "        self.size = size\n",
        "        self.grid = [['' for _ in range(size)] for _ in range(size)]\n",
        "        self.percepts = [[set() for _ in range(size)] for _ in range(size)]\n",
        "        self.pit_ratio = pit_ratio\n",
        "        self.wumpus_alive = True\n",
        "        self.place_elements()\n",
        "\n",
        "    def place_elements(self):\n",
        "      total_cells = self.size * self.size\n",
        "      pit_count = int(total_cells * self.pit_ratio)\n",
        "\n",
        "      # ✅ Mark safe zones\n",
        "      occupied = {(0, 0), (0, 1), (1, 0)}\n",
        "\n",
        "      # ✅ Pits: must not go into (0,0), (0,1), or (1,0)\n",
        "      for i, j in self._get_random_positions(pit_count, occupied.copy()):\n",
        "          self.grid[i][j] = 'P'\n",
        "          occupied.add((i, j))\n",
        "\n",
        "      # ✅ Wumpus\n",
        "      i, j = self._get_random_positions(1, occupied)[0]\n",
        "      self.grid[i][j] = 'W'\n",
        "      self.wumpus_pos = (i, j)\n",
        "      occupied.add((i, j))\n",
        "\n",
        "      # ✅ Gold\n",
        "      i, j = self._get_random_positions(1, occupied)[0]\n",
        "      self.grid[i][j] = 'G'\n",
        "      self.gold_pos = (i, j)\n",
        "      occupied.add((i, j))\n",
        "\n",
        "      # ✅ Add percepts based on pits, wumpus, gold\n",
        "      for i in range(self.size):\n",
        "          for j in range(self.size):\n",
        "              if 'P' in self.grid[i][j]:\n",
        "                  self._add_adjacent_percept(i, j, 'breeze')\n",
        "              if 'W' in self.grid[i][j]:\n",
        "                  self._add_adjacent_percept(i, j, 'stench')\n",
        "              if 'G' in self.grid[i][j]:\n",
        "                  self.percepts[i][j].add('glitter')\n",
        "\n",
        "\n",
        "    def _get_random_positions(self, count, avoid):\n",
        "        positions = []\n",
        "        while len(positions) < count:\n",
        "            i, j = random.randint(0, self.size - 1), random.randint(0, self.size - 1)\n",
        "            if (i, j) not in avoid:\n",
        "                positions.append((i, j))\n",
        "                avoid.add((i, j))\n",
        "        return positions\n",
        "\n",
        "    def _add_adjacent_percept(self, i, j, percept):\n",
        "        for di, dj in [(-1,0), (1,0), (0,-1), (0,1)]:\n",
        "            ni, nj = i + di, j + dj\n",
        "            if 0 <= ni < self.size and 0 <= nj < self.size:\n",
        "                self.percepts[ni][nj].add(percept)\n",
        "\n",
        "    def print_world(self):\n",
        "        for row in self.grid[::-1]:\n",
        "            print(row)\n"
      ],
      "metadata": {
        "id": "7r6U005u5yj9"
      },
      "execution_count": 9,
      "outputs": []
    },
    {
      "cell_type": "code",
      "source": [
        "def draw_grid(env, agent_pos, path, direction, action_text, step_idx, status=\"playing\", emotion=\"\"):\n",
        "    size = env.size\n",
        "    fig, ax = plt.subplots(figsize=(5, 5))\n",
        "    ax.set_xlim(0, size)\n",
        "    ax.set_ylim(0, size)\n",
        "    ax.set_xticks(range(size+1))\n",
        "    ax.set_yticks(range(size+1))\n",
        "    ax.grid(True)\n",
        "    ax.set_aspect('equal')\n",
        "\n",
        "    for i in range(size):\n",
        "        for j in range(size):\n",
        "            cell = env.grid[i][j]\n",
        "            color = 'green'\n",
        "            if 'P' in cell:\n",
        "                color = 'black'\n",
        "            elif 'G' in cell:\n",
        "                color = 'yellow'\n",
        "            elif 'W' in cell and env.wumpus_alive:\n",
        "                color = 'white'\n",
        "            ax.add_patch(patches.Rectangle((j, size-1-i), 1, 1, edgecolor='gray', facecolor=color))\n",
        "            if 'W' in cell and env.wumpus_alive:\n",
        "                ax.add_patch(patches.Circle((j+0.5, size-1-i+0.5), 0.3, color='red'))\n",
        "\n",
        "    for (x, y) in path:\n",
        "        ax.add_patch(patches.Circle((y+0.5, size-1-x+0.5), 0.1, color='blue'))\n",
        "\n",
        "    arrow = {'N': '^', 'E': '>', 'S': 'v', 'W': '<'}[direction]\n",
        "    ax.text(agent_pos[1]+0.35, size-1-agent_pos[0]+0.35, arrow, fontsize=16, color='lightblue')\n",
        "\n",
        "    ax.set_title(f\"Step {step_idx+1}: {action_text} | Status: {status} | Emotion: {emotion}\", fontsize=10)\n",
        "    plt.xticks([]), plt.yticks([]), plt.box(False)\n",
        "    plt.show()\n"
      ],
      "metadata": {
        "id": "a9kmVQ2w51Tu"
      },
      "execution_count": 10,
      "outputs": []
    },
    {
      "cell_type": "code",
      "source": [
        "def simulate_chromosome(env, chromosome, visualize=False):\n",
        "    pos = [0, 0]\n",
        "    direction = 'E'\n",
        "    path = [tuple(pos)]\n",
        "    visited = set(path)\n",
        "    arrow_used = False\n",
        "    grabbed_gold = False\n",
        "    died = False\n",
        "\n",
        "    for idx, action in enumerate(chromosome):\n",
        "        emotion = \"\"\n",
        "\n",
        "        # Emotion: bump\n",
        "        ni, nj = pos[0] + dx[direction], pos[1] + dy[direction]\n",
        "        if action == 'Move' and not (0 <= ni < env.size and 0 <= nj < env.size):\n",
        "            emotion = \"bump\"\n",
        "\n",
        "        # Emotion: percepts\n",
        "        if 'breeze' in env.percepts[pos[0]][pos[1]]:\n",
        "            emotion = \"breeze\"\n",
        "        if 'stench' in env.percepts[pos[0]][pos[1]] and env.wumpus_alive:\n",
        "            emotion = \"stench\"\n",
        "\n",
        "        # Adjacent Wumpus Kill Logic for auto scream or Shoot\n",
        "        wx, wy = env.wumpus_pos\n",
        "        ax, ay = pos\n",
        "        is_adj = abs(wx - ax) + abs(wy - ay) == 1\n",
        "        facing_map = {'N': (-1, 0), 'S': (1, 0), 'E': (0, 1), 'W': (0, -1)}\n",
        "        is_facing = is_adj and facing_map[direction] == (wx - ax, wy - ay)\n",
        "\n",
        "        # Only allow shoot if facing Wumpus & adjacent\n",
        "        if action == 'Shoot':\n",
        "            if env.wumpus_alive and is_facing and not arrow_used:\n",
        "                env.grid[wx][wy] = ''\n",
        "                env.wumpus_alive = False\n",
        "                arrow_used = True\n",
        "                emotion = \"scream\"\n",
        "            else:\n",
        "                continue  # skip this shoot as it’s invalid\n",
        "\n",
        "        # Only allow grab if on gold cell\n",
        "        elif action == 'Grab':\n",
        "            if 'G' in env.grid[pos[0]][pos[1]]:\n",
        "                grabbed_gold = True\n",
        "                env.grid[pos[0]][pos[1]] = ''\n",
        "                emotion = \"glitter + grab\"\n",
        "                if visualize:\n",
        "                    clear_output(wait=True)\n",
        "                    draw_grid(env, pos, path, direction, action, idx, status=\"won\", emotion=emotion)\n",
        "                    time.sleep(2)\n",
        "                break  # ✅ end simulation after grabbing gold\n",
        "            else:\n",
        "                continue  # invalid grab, skip\n",
        "\n",
        "        # Move\n",
        "        elif action == 'Move':\n",
        "            if 0 <= ni < env.size and 0 <= nj < env.size:\n",
        "                pos = [ni, nj]\n",
        "                path.append(tuple(pos))\n",
        "                visited.add(tuple(pos))\n",
        "        # Turns\n",
        "        elif action == 'TurnLeft':\n",
        "            direction = directions[(directions.index(direction) - 1) % 4]\n",
        "        elif action == 'TurnRight':\n",
        "            direction = directions[(directions.index(direction) + 1) % 4]\n",
        "\n",
        "        # Death check\n",
        "        if 'P' in env.grid[pos[0]][pos[1]] or ('W' in env.grid[pos[0]][pos[1]] and env.wumpus_alive):\n",
        "            died = True\n",
        "            emotion = \"dead\"\n",
        "\n",
        "        if visualize:\n",
        "            clear_output(wait=True)\n",
        "            draw_grid(env, pos, path, direction, action, idx, status=\"dead\" if died else \"playing\", emotion=emotion)\n",
        "            time.sleep(2)\n",
        "\n",
        "        if died:\n",
        "            break\n",
        "\n",
        "    # FITNESS\n",
        "    fitness = 0\n",
        "    if grabbed_gold: fitness += 100\n",
        "    if not died: fitness += 50\n",
        "    fitness += -len(chromosome) * 2\n",
        "    return fitness, grabbed_gold, chromosome\n"
      ],
      "metadata": {
        "id": "T4dhY4un6BVC"
      },
      "execution_count": 11,
      "outputs": []
    },
    {
      "cell_type": "code",
      "source": [
        "actions = ['Move', 'TurnLeft', 'TurnRight', 'Shoot', 'Grab']\n",
        "\n",
        "def generate_chromosome(length=30):\n",
        "    return [random.choice(actions) for _ in range(length)]\n",
        "\n",
        "def crossover(p1, p2):\n",
        "    idx = random.randint(1, len(p1) - 2)\n",
        "    return p1[:idx] + p2[idx:]\n",
        "\n",
        "def mutate(chromosome, rate=0.1):\n",
        "    return [random.choice(actions) if random.random() < rate else gene for gene in chromosome]\n",
        "\n",
        "def run_ga(generations=50, pop_size=100, chrom_len=30):\n",
        "    env = WumpusWorld()\n",
        "    env.print_world()\n",
        "    population = [generate_chromosome(chrom_len) for _ in range(pop_size)]\n",
        "    best_fit = -float('inf')\n",
        "    best_chrom = None\n",
        "\n",
        "    for gen in range(generations):\n",
        "        scores = []\n",
        "        for chrom in population:\n",
        "            copied_env = WumpusWorld()  # reinit each run\n",
        "            copied_env.grid = [row.copy() for row in env.grid]\n",
        "            copied_env.wumpus_alive = env.wumpus_alive\n",
        "            copied_env.wumpus_pos = env.wumpus_pos\n",
        "            copied_env.gold_pos = env.gold_pos\n",
        "\n",
        "            fit, won, _ = simulate_chromosome(copied_env, chrom)\n",
        "            scores.append((fit, chrom))\n",
        "            if fit > best_fit:\n",
        "                best_fit = fit\n",
        "                best_chrom = chrom\n",
        "\n",
        "        scores.sort(reverse=True)\n",
        "        top = [chrom for _, chrom in scores[:pop_size//2]]\n",
        "        population = top + [mutate(crossover(random.choice(top), random.choice(top))) for _ in range(pop_size//2)]\n",
        "\n",
        "    print(f\"\\n🔥 Best Fitness: {best_fit}\")\n",
        "    return env, best_chrom\n"
      ],
      "metadata": {
        "id": "y-_Ba71G6BR-"
      },
      "execution_count": 12,
      "outputs": []
    },
    {
      "cell_type": "code",
      "source": [
        "env, best_chrom = run_ga(generations=60, pop_size=120, chrom_len=30)\n",
        "print(\"\\n🏆 Best Chromosome:\")\n",
        "print(best_chrom)\n",
        "\n",
        "print(\"\\n🎬 Final Simulation of Best Chromosome\")\n",
        "simulate_chromosome(env, best_chrom, visualize=True)\n"
      ],
      "metadata": {
        "colab": {
          "base_uri": "https://localhost:8080/",
          "height": 997
        },
        "id": "0j8few0i6BOw",
        "outputId": "aee1dd29-a0d5-4ffa-f6f4-f294077e7f25"
      },
      "execution_count": 14,
      "outputs": [
        {
          "output_type": "display_data",
          "data": {
            "text/plain": [
              "<Figure size 500x500 with 1 Axes>"
            ],
            "image/png": "[encoded data removed]"
          },
          "metadata": {}
        },
        {
          "output_type": "execute_result",
          "data": {
            "text/plain": [
              "(90,\n",
              " True,\n",
              " ['Shoot',\n",
              "  'Move',\n",
              "  'Move',\n",
              "  'Move',\n",
              "  'Shoot',\n",
              "  'Move',\n",
              "  'TurnRight',\n",
              "  'Grab',\n",
              "  'Move',\n",
              "  'TurnLeft',\n",
              "  'Grab',\n",
              "  'Grab',\n",
              "  'Shoot',\n",
              "  'TurnLeft',\n",
              "  'Move',\n",
              "  'Grab',\n",
              "  'Move',\n",
              "  'Shoot',\n",
              "  'TurnRight',\n",
              "  'TurnRight',\n",
              "  'Grab',\n",
              "  'TurnLeft',\n",
              "  'Grab',\n",
              "  'Grab',\n",
              "  'TurnLeft',\n",
              "  'Move',\n",
              "  'TurnLeft',\n",
              "  'Move',\n",
              "  'Move',\n",
              "  'TurnRight'])"
            ]
          },
          "metadata": {},
          "execution_count": 14
        }
      ]
    },
    {
      "cell_type": "markdown",
      "source": [
        "# Menu Driven"
      ],
      "metadata": {
        "id": "IgkXv7aWMSsk"
      }
    },
    {
      "cell_type": "code",
      "source": [
        "import random\n",
        "import matplotlib.pyplot as plt\n",
        "import matplotlib.patches as patches\n",
        "from IPython.display import clear_output\n",
        "import time\n",
        "import copy\n",
        "\n"
      ],
      "metadata": {
        "id": "p4toKBm16BLm"
      },
      "execution_count": 2,
      "outputs": []
    },
    {
      "cell_type": "code",
      "source": [
        "directions = ['N', 'E', 'S', 'W']\n",
        "dx = {'N': -1, 'E': 0, 'S': 1, 'W': 0}\n",
        "dy = {'N': 0, 'E': 1, 'S': 0, 'W': -1}\n"
      ],
      "metadata": {
        "id": "g-YQVGskMW4P"
      },
      "execution_count": 3,
      "outputs": []
    },
    {
      "cell_type": "code",
      "source": [
        "class WumpusWorld:\n",
        "    def __init__(self, size=4, pit_ratio=0.2):\n",
        "        self.size = size\n",
        "        self.pit_ratio = pit_ratio  # 🔧 Fix for pit_ratio error\n",
        "        self.grid = [['' for _ in range(size)] for _ in range(size)]\n",
        "        self.percepts = [[set() for _ in range(size)] for _ in range(size)]\n",
        "        self.revealed = [[False for _ in range(size)] for _ in range(size)]\n",
        "        self.wumpus_alive = True\n",
        "        self.place_elements()\n",
        "\n",
        "    def place_elements(self):\n",
        "        total_cells = self.size * self.size\n",
        "        pit_count = int(total_cells * self.pit_ratio)\n",
        "        occupied = {(0, 0), (0, 1), (1, 0)}  # safe cells\n",
        "\n",
        "        for i, j in self._get_random_positions(pit_count, occupied.copy()):\n",
        "            self.grid[i][j] = 'P'\n",
        "            occupied.add((i, j))\n",
        "\n",
        "        i, j = self._get_random_positions(1, occupied)[0]\n",
        "        self.grid[i][j] = 'W'\n",
        "        self.wumpus_pos = (i, j)\n",
        "        occupied.add((i, j))\n",
        "\n",
        "        i, j = self._get_random_positions(1, occupied)[0]\n",
        "        self.grid[i][j] = 'G'\n",
        "        self.gold_pos = (i, j)\n",
        "        occupied.add((i, j))\n",
        "\n",
        "        for i in range(self.size):\n",
        "            for j in range(self.size):\n",
        "                if 'P' in self.grid[i][j]:\n",
        "                    self._add_adjacent_percept(i, j, 'breeze')\n",
        "                if 'W' in self.grid[i][j]:\n",
        "                    self._add_adjacent_percept(i, j, 'stench')\n",
        "                if 'G' in self.grid[i][j]:\n",
        "                    self.percepts[i][j].add('glitter')\n",
        "\n",
        "    def _get_random_positions(self, count, avoid):\n",
        "        positions = []\n",
        "        while len(positions) < count:\n",
        "            i, j = random.randint(0, self.size - 1), random.randint(0, self.size - 1)\n",
        "            if (i, j) not in avoid:\n",
        "                positions.append((i, j))\n",
        "                avoid.add((i, j))\n",
        "        return positions\n",
        "\n",
        "    def _add_adjacent_percept(self, i, j, percept):\n",
        "        for di, dj in [(-1,0), (1,0), (0,-1), (0,1)]:\n",
        "            ni, nj = i + di, j + dj\n",
        "            if 0 <= ni < self.size and 0 <= nj < self.size:\n",
        "                self.percepts[ni][nj].add(percept)\n"
      ],
      "metadata": {
        "id": "knPrJZNzMW1S"
      },
      "execution_count": 4,
      "outputs": []
    },
    {
      "cell_type": "code",
      "source": [
        "def draw_grid(env, agent_pos, direction, step_text=\"\", status=\"playing\", emotion=\"\"):\n",
        "    size = env.size\n",
        "    fig, ax = plt.subplots(figsize=(5, 5))\n",
        "    ax.set_xlim(0, size)\n",
        "    ax.set_ylim(0, size)\n",
        "    ax.set_xticks(range(size+1))\n",
        "    ax.set_yticks(range(size+1))\n",
        "    ax.grid(True)\n",
        "    ax.set_aspect('equal')\n",
        "\n",
        "    for i in range(size):\n",
        "        for j in range(size):\n",
        "            visible = env.revealed[i][j]\n",
        "            color = 'green'\n",
        "            if visible:\n",
        "                if 'P' in env.grid[i][j]:\n",
        "                    color = 'black'\n",
        "                elif 'G' in env.grid[i][j]:\n",
        "                    color = 'yellow'\n",
        "                elif 'W' in env.grid[i][j]:\n",
        "                    color = 'white'\n",
        "            ax.add_patch(patches.Rectangle((j, size-1-i), 1, 1, edgecolor='gray', facecolor=color))\n",
        "            if visible and 'W' in env.grid[i][j]:\n",
        "                ax.add_patch(patches.Circle((j+0.5, size-1-i+0.5), 0.3, color='red'))\n",
        "\n",
        "    ax.add_patch(patches.Circle((agent_pos[1]+0.5, size-1-agent_pos[0]+0.5), 0.2, color='blue'))\n",
        "    arrow = {'N': '^', 'E': '>', 'S': 'v', 'W': '<'}[direction]\n",
        "    ax.text(agent_pos[1]+0.35, size-1-agent_pos[0]+0.35, arrow, fontsize=16, color='lightblue')\n",
        "\n",
        "    ax.set_title(f\"Step: {step_text} | Status: {status} | Emotion: {emotion}\", fontsize=10)\n",
        "    plt.xticks([]), plt.yticks([]), plt.box(False)\n",
        "    plt.show()\n"
      ],
      "metadata": {
        "id": "cehqItPKMWyj"
      },
      "execution_count": 5,
      "outputs": []
    },
    {
      "cell_type": "code",
      "source": [
        "def play_wumpus_interactive(saved_env=None):\n",
        "    if saved_env:\n",
        "        env = copy.deepcopy(saved_env)\n",
        "    else:\n",
        "        env = WumpusWorld()\n",
        "\n",
        "    saved_copy = copy.deepcopy(env)\n",
        "    pos = [0, 0]\n",
        "    direction = 'E'\n",
        "    status = \"playing\"\n",
        "    emotion = \"\"\n",
        "    step_text = \"start\"\n",
        "    env.revealed[pos[0]][pos[1]] = True\n",
        "\n",
        "    while True:\n",
        "        clear_output(wait=True)\n",
        "\n",
        "        percepts = env.percepts[pos[0]][pos[1]]\n",
        "        if 'breeze' in percepts:\n",
        "            emotion = \"breeze\"\n",
        "        if 'stench' in percepts and env.wumpus_alive:\n",
        "            emotion = \"stench\"\n",
        "        if 'glitter' in percepts:\n",
        "            emotion = \"glitter\"\n",
        "\n",
        "\n",
        "        if status == \"dead\":\n",
        "            for i in range(env.size):\n",
        "                for j in range(env.size):\n",
        "                    env.revealed[i][j] = True\n",
        "\n",
        "        draw_grid(env, pos, direction, step_text, status, emotion)\n",
        "        time.sleep(2)\n",
        "\n",
        "        if status != \"playing\":\n",
        "            print(\"\\n💀 GAME OVER! Press R to Retry, N for New Game\")\n",
        "            choice = input(\">> \").strip().upper()\n",
        "            if choice == \"R\":\n",
        "                return play_wumpus_interactive(saved_env=saved_copy)\n",
        "            elif choice == \"N\":\n",
        "                return play_wumpus_interactive()\n",
        "            else:\n",
        "                continue\n",
        "\n",
        "        key = input(\"Your Move [W=Forward, A=Left, D=Right, S=Shoot]:\\n \").strip().upper()\n",
        "        step_text = \"\"\n",
        "\n",
        "        if key == \"W\":\n",
        "            ni, nj = pos[0] + dx[direction], pos[1] + dy[direction]\n",
        "            if 0 <= ni < env.size and 0 <= nj < env.size:\n",
        "                pos = [ni, nj]\n",
        "                env.revealed[ni][nj] = True\n",
        "                step_text = \"move\"\n",
        "                if 'P' in env.grid[ni][nj]:\n",
        "                    status = \"dead\"\n",
        "                    step_text = \"pit\"\n",
        "                elif 'W' in env.grid[ni][nj] and env.wumpus_alive:\n",
        "                    status = \"dead\"\n",
        "                    step_text = \"wumpus\"\n",
        "                elif 'G' in env.grid[ni][nj]:\n",
        "                    status = \"won\"\n",
        "                    step_text = \"gold\"\n",
        "                    emotion = \"glitter+grab\"\n",
        "            else:\n",
        "                emotion = \"bump\"\n",
        "                step_text = \"wall\"\n",
        "        elif key == \"A\":\n",
        "            direction = directions[(directions.index(direction) - 1) % 4]\n",
        "            step_text = \"turn left\"\n",
        "        elif key == \"D\":\n",
        "            direction = directions[(directions.index(direction) + 1) % 4]\n",
        "            step_text = \"turn right\"\n",
        "        elif key == \"S\":\n",
        "            wx, wy = env.wumpus_pos\n",
        "            ax, ay = pos\n",
        "            is_adj = abs(wx - ax) + abs(wy - ay) == 1\n",
        "            facing_map = {'N': (-1, 0), 'S': (1, 0), 'E': (0, 1), 'W': (0, -1)}\n",
        "            is_facing = is_adj and facing_map[direction] == (wx - ax, wy - ay)\n",
        "            if is_facing and env.wumpus_alive:\n",
        "                env.grid[wx][wy] = ''\n",
        "                env.wumpus_alive = False\n",
        "                emotion = \"scream\"\n",
        "                env.revealed[wx][wy] = True\n",
        "                step_text = \"shoot (kill)\"\n",
        "            else:\n",
        "                step_text = \"shoot (miss)\"\n"
      ],
      "metadata": {
        "id": "qMj6LEJ6MWwJ"
      },
      "execution_count": 6,
      "outputs": []
    },
    {
      "cell_type": "code",
      "source": [
        "play_wumpus_interactive()\n"
      ],
      "metadata": {
        "colab": {
          "base_uri": "https://localhost:8080/",
          "height": 764
        },
        "id": "7sX37GqFMWtc",
        "outputId": "4a275978-7469-433d-d3ec-9d2c1a744d39"
      },
      "execution_count": 7,
      "outputs": [
        {
          "output_type": "display_data",
          "data": {
            "text/plain": [
              "<Figure size 500x500 with 1 Axes>"
            ],
            "image/png": "[encoded data removed]"
          },
          "metadata": {}
        },
        {
          "output_type": "stream",
          "name": "stdout",
          "text": [
            "\n",
            "💀 GAME OVER! Press R to Retry, N for New Game\n"
          ]
        },
        {
          "output_type": "error",
          "ename": "KeyboardInterrupt",
          "evalue": "Interrupted by user",
          "traceback": [
            "\u001b[0;31m---------------------------------------------------------------------------\u001b[0m",
            "\u001b[0;31mKeyboardInterrupt\u001b[0m                         Traceback (most recent call last)",
            "\u001b[0;32m<ipython-input-7-1e0a69a4a71d>\u001b[0m in \u001b[0;36m<cell line: 0>\u001b[0;34m()\u001b[0m\n\u001b[0;32m----> 1\u001b[0;31m \u001b[0mplay_wumpus_interactive\u001b[0m\u001b[0;34m(\u001b[0m\u001b[0;34m)\u001b[0m\u001b[0;34m\u001b[0m\u001b[0;34m\u001b[0m\u001b[0m\n\u001b[0m",
            "\u001b[0;32m<ipython-input-6-1d0a87689abe>\u001b[0m in \u001b[0;36mplay_wumpus_interactive\u001b[0;34m(saved_env)\u001b[0m\n\u001b[1;32m     37\u001b[0m             \u001b[0mchoice\u001b[0m \u001b[0;34m=\u001b[0m \u001b[0minput\u001b[0m\u001b[0;34m(\u001b[0m\u001b[0;34m\">> \"\u001b[0m\u001b[0;34m)\u001b[0m\u001b[0;34m.\u001b[0m\u001b[0mstrip\u001b[0m\u001b[0;34m(\u001b[0m\u001b[0;34m)\u001b[0m\u001b[0;34m.\u001b[0m\u001b[0mupper\u001b[0m\u001b[0;34m(\u001b[0m\u001b[0;34m)\u001b[0m\u001b[0;34m\u001b[0m\u001b[0;34m\u001b[0m\u001b[0m\n\u001b[1;32m     38\u001b[0m             \u001b[0;32mif\u001b[0m \u001b[0mchoice\u001b[0m \u001b[0;34m==\u001b[0m \u001b[0;34m\"R\"\u001b[0m\u001b[0;34m:\u001b[0m\u001b[0;34m\u001b[0m\u001b[0;34m\u001b[0m\u001b[0m\n\u001b[0;32m---> 39\u001b[0;31m                 \u001b[0;32mreturn\u001b[0m \u001b[0mplay_wumpus_interactive\u001b[0m\u001b[0;34m(\u001b[0m\u001b[0msaved_env\u001b[0m\u001b[0;34m=\u001b[0m\u001b[0msaved_copy\u001b[0m\u001b[0;34m)\u001b[0m\u001b[0;34m\u001b[0m\u001b[0;34m\u001b[0m\u001b[0m\n\u001b[0m\u001b[1;32m     40\u001b[0m             \u001b[0;32melif\u001b[0m \u001b[0mchoice\u001b[0m \u001b[0;34m==\u001b[0m \u001b[0;34m\"N\"\u001b[0m\u001b[0;34m:\u001b[0m\u001b[0;34m\u001b[0m\u001b[0;34m\u001b[0m\u001b[0m\n\u001b[1;32m     41\u001b[0m                 \u001b[0;32mreturn\u001b[0m \u001b[0mplay_wumpus_interactive\u001b[0m\u001b[0;34m(\u001b[0m\u001b[0;34m)\u001b[0m\u001b[0;34m\u001b[0m\u001b[0;34m\u001b[0m\u001b[0m\n",
            "\u001b[0;32m<ipython-input-6-1d0a87689abe>\u001b[0m in \u001b[0;36mplay_wumpus_interactive\u001b[0;34m(saved_env)\u001b[0m\n\u001b[1;32m     37\u001b[0m             \u001b[0mchoice\u001b[0m \u001b[0;34m=\u001b[0m \u001b[0minput\u001b[0m\u001b[0;34m(\u001b[0m\u001b[0;34m\">> \"\u001b[0m\u001b[0;34m)\u001b[0m\u001b[0;34m.\u001b[0m\u001b[0mstrip\u001b[0m\u001b[0;34m(\u001b[0m\u001b[0;34m)\u001b[0m\u001b[0;34m.\u001b[0m\u001b[0mupper\u001b[0m\u001b[0;34m(\u001b[0m\u001b[0;34m)\u001b[0m\u001b[0;34m\u001b[0m\u001b[0;34m\u001b[0m\u001b[0m\n\u001b[1;32m     38\u001b[0m             \u001b[0;32mif\u001b[0m \u001b[0mchoice\u001b[0m \u001b[0;34m==\u001b[0m \u001b[0;34m\"R\"\u001b[0m\u001b[0;34m:\u001b[0m\u001b[0;34m\u001b[0m\u001b[0;34m\u001b[0m\u001b[0m\n\u001b[0;32m---> 39\u001b[0;31m                 \u001b[0;32mreturn\u001b[0m \u001b[0mplay_wumpus_interactive\u001b[0m\u001b[0;34m(\u001b[0m\u001b[0msaved_env\u001b[0m\u001b[0;34m=\u001b[0m\u001b[0msaved_copy\u001b[0m\u001b[0;34m)\u001b[0m\u001b[0;34m\u001b[0m\u001b[0;34m\u001b[0m\u001b[0m\n\u001b[0m\u001b[1;32m     40\u001b[0m             \u001b[0;32melif\u001b[0m \u001b[0mchoice\u001b[0m \u001b[0;34m==\u001b[0m \u001b[0;34m\"N\"\u001b[0m\u001b[0;34m:\u001b[0m\u001b[0;34m\u001b[0m\u001b[0;34m\u001b[0m\u001b[0m\n\u001b[1;32m     41\u001b[0m                 \u001b[0;32mreturn\u001b[0m \u001b[0mplay_wumpus_interactive\u001b[0m\u001b[0;34m(\u001b[0m\u001b[0;34m)\u001b[0m\u001b[0;34m\u001b[0m\u001b[0;34m\u001b[0m\u001b[0m\n",
            "\u001b[0;32m<ipython-input-6-1d0a87689abe>\u001b[0m in \u001b[0;36mplay_wumpus_interactive\u001b[0;34m(saved_env)\u001b[0m\n\u001b[1;32m     39\u001b[0m                 \u001b[0;32mreturn\u001b[0m \u001b[0mplay_wumpus_interactive\u001b[0m\u001b[0;34m(\u001b[0m\u001b[0msaved_env\u001b[0m\u001b[0;34m=\u001b[0m\u001b[0msaved_copy\u001b[0m\u001b[0;34m)\u001b[0m\u001b[0;34m\u001b[0m\u001b[0;34m\u001b[0m\u001b[0m\n\u001b[1;32m     40\u001b[0m             \u001b[0;32melif\u001b[0m \u001b[0mchoice\u001b[0m \u001b[0;34m==\u001b[0m \u001b[0;34m\"N\"\u001b[0m\u001b[0;34m:\u001b[0m\u001b[0;34m\u001b[0m\u001b[0;34m\u001b[0m\u001b[0m\n\u001b[0;32m---> 41\u001b[0;31m                 \u001b[0;32mreturn\u001b[0m \u001b[0mplay_wumpus_interactive\u001b[0m\u001b[0;34m(\u001b[0m\u001b[0;34m)\u001b[0m\u001b[0;34m\u001b[0m\u001b[0;34m\u001b[0m\u001b[0m\n\u001b[0m\u001b[1;32m     42\u001b[0m             \u001b[0;32melse\u001b[0m\u001b[0;34m:\u001b[0m\u001b[0;34m\u001b[0m\u001b[0;34m\u001b[0m\u001b[0m\n\u001b[1;32m     43\u001b[0m                 \u001b[0;32mcontinue\u001b[0m\u001b[0;34m\u001b[0m\u001b[0;34m\u001b[0m\u001b[0m\n",
            "\u001b[0;32m<ipython-input-6-1d0a87689abe>\u001b[0m in \u001b[0;36mplay_wumpus_interactive\u001b[0;34m(saved_env)\u001b[0m\n\u001b[1;32m     35\u001b[0m         \u001b[0;32mif\u001b[0m \u001b[0mstatus\u001b[0m \u001b[0;34m!=\u001b[0m \u001b[0;34m\"playing\"\u001b[0m\u001b[0;34m:\u001b[0m\u001b[0;34m\u001b[0m\u001b[0;34m\u001b[0m\u001b[0m\n\u001b[1;32m     36\u001b[0m             \u001b[0mprint\u001b[0m\u001b[0;34m(\u001b[0m\u001b[0;34m\"\\n💀 GAME OVER! Press R to Retry, N for New Game\"\u001b[0m\u001b[0;34m)\u001b[0m\u001b[0;34m\u001b[0m\u001b[0;34m\u001b[0m\u001b[0m\n\u001b[0;32m---> 37\u001b[0;31m             \u001b[0mchoice\u001b[0m \u001b[0;34m=\u001b[0m \u001b[0minput\u001b[0m\u001b[0;34m(\u001b[0m\u001b[0;34m\">> \"\u001b[0m\u001b[0;34m)\u001b[0m\u001b[0;34m.\u001b[0m\u001b[0mstrip\u001b[0m\u001b[0;34m(\u001b[0m\u001b[0;34m)\u001b[0m\u001b[0;34m.\u001b[0m\u001b[0mupper\u001b[0m\u001b[0;34m(\u001b[0m\u001b[0;34m)\u001b[0m\u001b[0;34m\u001b[0m\u001b[0;34m\u001b[0m\u001b[0m\n\u001b[0m\u001b[1;32m     38\u001b[0m             \u001b[0;32mif\u001b[0m \u001b[0mchoice\u001b[0m \u001b[0;34m==\u001b[0m \u001b[0;34m\"R\"\u001b[0m\u001b[0;34m:\u001b[0m\u001b[0;34m\u001b[0m\u001b[0;34m\u001b[0m\u001b[0m\n\u001b[1;32m     39\u001b[0m                 \u001b[0;32mreturn\u001b[0m \u001b[0mplay_wumpus_interactive\u001b[0m\u001b[0;34m(\u001b[0m\u001b[0msaved_env\u001b[0m\u001b[0;34m=\u001b[0m\u001b[0msaved_copy\u001b[0m\u001b[0;34m)\u001b[0m\u001b[0;34m\u001b[0m\u001b[0;34m\u001b[0m\u001b[0m\n",
            "\u001b[0;32m/usr/local/lib/python3.11/dist-packages/ipykernel/kernelbase.py\u001b[0m in \u001b[0;36mraw_input\u001b[0;34m(self, prompt)\u001b[0m\n\u001b[1;32m   1175\u001b[0m                 \u001b[0;34m\"raw_input was called, but this frontend does not support input requests.\"\u001b[0m\u001b[0;34m\u001b[0m\u001b[0;34m\u001b[0m\u001b[0m\n\u001b[1;32m   1176\u001b[0m             )\n\u001b[0;32m-> 1177\u001b[0;31m         return self._input_request(\n\u001b[0m\u001b[1;32m   1178\u001b[0m             \u001b[0mstr\u001b[0m\u001b[0;34m(\u001b[0m\u001b[0mprompt\u001b[0m\u001b[0;34m)\u001b[0m\u001b[0;34m,\u001b[0m\u001b[0;34m\u001b[0m\u001b[0;34m\u001b[0m\u001b[0m\n\u001b[1;32m   1179\u001b[0m             \u001b[0mself\u001b[0m\u001b[0;34m.\u001b[0m\u001b[0m_parent_ident\u001b[0m\u001b[0;34m[\u001b[0m\u001b[0;34m\"shell\"\u001b[0m\u001b[0;34m]\u001b[0m\u001b[0;34m,\u001b[0m\u001b[0;34m\u001b[0m\u001b[0;34m\u001b[0m\u001b[0m\n",
            "\u001b[0;32m/usr/local/lib/python3.11/dist-packages/ipykernel/kernelbase.py\u001b[0m in \u001b[0;36m_input_request\u001b[0;34m(self, prompt, ident, parent, password)\u001b[0m\n\u001b[1;32m   1217\u001b[0m             \u001b[0;32mexcept\u001b[0m \u001b[0mKeyboardInterrupt\u001b[0m\u001b[0;34m:\u001b[0m\u001b[0;34m\u001b[0m\u001b[0;34m\u001b[0m\u001b[0m\n\u001b[1;32m   1218\u001b[0m                 \u001b[0;31m# re-raise KeyboardInterrupt, to truncate traceback\u001b[0m\u001b[0;34m\u001b[0m\u001b[0;34m\u001b[0m\u001b[0m\n\u001b[0;32m-> 1219\u001b[0;31m                 \u001b[0;32mraise\u001b[0m \u001b[0mKeyboardInterrupt\u001b[0m\u001b[0;34m(\u001b[0m\u001b[0;34m\"Interrupted by user\"\u001b[0m\u001b[0;34m)\u001b[0m \u001b[0;32mfrom\u001b[0m \u001b[0;32mNone\u001b[0m\u001b[0;34m\u001b[0m\u001b[0;34m\u001b[0m\u001b[0m\n\u001b[0m\u001b[1;32m   1220\u001b[0m             \u001b[0;32mexcept\u001b[0m \u001b[0mException\u001b[0m\u001b[0;34m:\u001b[0m\u001b[0;34m\u001b[0m\u001b[0;34m\u001b[0m\u001b[0m\n\u001b[1;32m   1221\u001b[0m                 \u001b[0mself\u001b[0m\u001b[0;34m.\u001b[0m\u001b[0mlog\u001b[0m\u001b[0;34m.\u001b[0m\u001b[0mwarning\u001b[0m\u001b[0;34m(\u001b[0m\u001b[0;34m\"Invalid Message:\"\u001b[0m\u001b[0;34m,\u001b[0m \u001b[0mexc_info\u001b[0m\u001b[0;34m=\u001b[0m\u001b[0;32mTrue\u001b[0m\u001b[0;34m)\u001b[0m\u001b[0;34m\u001b[0m\u001b[0;34m\u001b[0m\u001b[0m\n",
            "\u001b[0;31mKeyboardInterrupt\u001b[0m: Interrupted by user"
          ]
        }
      ]
    },
    {
      "cell_type": "code",
      "source": [],
      "metadata": {
        "id": "-Q_kHVLHMWq8"
      },
      "execution_count": null,
      "outputs": []
    },
    {
      "cell_type": "code",
      "source": [],
      "metadata": {
        "id": "l0wEXjFpMWod"
      },
      "execution_count": null,
      "outputs": []
    },
    {
      "cell_type": "code",
      "source": [],
      "metadata": {
        "id": "dS_I4Cx5MWlV"
      },
      "execution_count": null,
      "outputs": []
    }
  ]
}